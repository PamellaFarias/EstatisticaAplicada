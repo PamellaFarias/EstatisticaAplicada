{
 "cells": [
  {
   "cell_type": "markdown",
   "id": "665f2a5c",
   "metadata": {},
   "source": [
    "<center> <h4>Estatística Aplicada a Computação</h4> </center>"
   ]
  },
  {
   "cell_type": "markdown",
   "id": "41a839ee",
   "metadata": {},
   "source": [
    "<center> <h4>Professor: Paulo Ribeiro Lins Junior</h4> </center>"
   ]
  },
  {
   "cell_type": "markdown",
   "id": "88b795b9",
   "metadata": {},
   "source": [
    "<center> <h4>Aluna: Pâmella Vitória Gomes Farias</h4> </center>"
   ]
  },
  {
   "cell_type": "markdown",
   "id": "47e7b8e9",
   "metadata": {},
   "source": [
    "<center> <h4>Matrícula: 202021250032</h4> </center>"
   ]
  },
  {
   "cell_type": "markdown",
   "id": "04df64c8",
   "metadata": {},
   "source": [
    "<center> <h1>Lista 10b</h1> </center>"
   ]
  },
  {
   "cell_type": "code",
   "execution_count": 113,
   "id": "cdc7b2b7",
   "metadata": {},
   "outputs": [],
   "source": [
    "import pandas as pd\n",
    "import numpy as np"
   ]
  },
  {
   "cell_type": "code",
   "execution_count": 114,
   "id": "f4e3307a",
   "metadata": {},
   "outputs": [],
   "source": [
    "df = pd.read_csv('C:/Users/fernando/Documents/Pâmella/Engenharia de Computação/2º Período/Estatística Aplicada a computação/Atividade 10a/2.1.csv',sep=';')"
   ]
  },
  {
   "cell_type": "code",
   "execution_count": 115,
   "id": "60d93410",
   "metadata": {},
   "outputs": [
    {
     "data": {
      "text/html": [
       "<div>\n",
       "<style scoped>\n",
       "    .dataframe tbody tr th:only-of-type {\n",
       "        vertical-align: middle;\n",
       "    }\n",
       "\n",
       "    .dataframe tbody tr th {\n",
       "        vertical-align: top;\n",
       "    }\n",
       "\n",
       "    .dataframe thead th {\n",
       "        text-align: right;\n",
       "    }\n",
       "</style>\n",
       "<table border=\"1\" class=\"dataframe\">\n",
       "  <thead>\n",
       "    <tr style=\"text-align: right;\">\n",
       "      <th></th>\n",
       "      <th>Nome</th>\n",
       "      <th>Idade</th>\n",
       "      <th>Salário</th>\n",
       "    </tr>\n",
       "  </thead>\n",
       "  <tbody>\n",
       "    <tr>\n",
       "      <th>0</th>\n",
       "      <td>João da Silva</td>\n",
       "      <td>36</td>\n",
       "      <td>6300</td>\n",
       "    </tr>\n",
       "    <tr>\n",
       "      <th>1</th>\n",
       "      <td>Pedro Fernandes</td>\n",
       "      <td>51</td>\n",
       "      <td>5700</td>\n",
       "    </tr>\n",
       "    <tr>\n",
       "      <th>2</th>\n",
       "      <td>Maria Freitas</td>\n",
       "      <td>26</td>\n",
       "      <td>4500</td>\n",
       "    </tr>\n",
       "    <tr>\n",
       "      <th>3</th>\n",
       "      <td>Paula Gonçalves</td>\n",
       "      <td>25</td>\n",
       "      <td>3800</td>\n",
       "    </tr>\n",
       "    <tr>\n",
       "      <th>4</th>\n",
       "      <td>Ana Freitas</td>\n",
       "      <td>29</td>\n",
       "      <td>3200</td>\n",
       "    </tr>\n",
       "    <tr>\n",
       "      <th>5</th>\n",
       "      <td>Luiz Costa</td>\n",
       "      <td>53</td>\n",
       "      <td>7300</td>\n",
       "    </tr>\n",
       "    <tr>\n",
       "      <th>6</th>\n",
       "      <td>André Souza</td>\n",
       "      <td>42</td>\n",
       "      <td>7100</td>\n",
       "    </tr>\n",
       "    <tr>\n",
       "      <th>7</th>\n",
       "      <td>Patrícia Silva</td>\n",
       "      <td>38</td>\n",
       "      <td>5600</td>\n",
       "    </tr>\n",
       "    <tr>\n",
       "      <th>8</th>\n",
       "      <td>Regina Lima</td>\n",
       "      <td>35</td>\n",
       "      <td>6400</td>\n",
       "    </tr>\n",
       "    <tr>\n",
       "      <th>9</th>\n",
       "      <td>Alfredo Souza</td>\n",
       "      <td>45</td>\n",
       "      <td>7000</td>\n",
       "    </tr>\n",
       "    <tr>\n",
       "      <th>10</th>\n",
       "      <td>Margarete Cunha</td>\n",
       "      <td>26</td>\n",
       "      <td>3700</td>\n",
       "    </tr>\n",
       "    <tr>\n",
       "      <th>11</th>\n",
       "      <td>Pedro Barbosa</td>\n",
       "      <td>37</td>\n",
       "      <td>6500</td>\n",
       "    </tr>\n",
       "    <tr>\n",
       "      <th>12</th>\n",
       "      <td>Ricardo Alves</td>\n",
       "      <td>24</td>\n",
       "      <td>4000</td>\n",
       "    </tr>\n",
       "    <tr>\n",
       "      <th>13</th>\n",
       "      <td>Márcio Rezende</td>\n",
       "      <td>31</td>\n",
       "      <td>5100</td>\n",
       "    </tr>\n",
       "    <tr>\n",
       "      <th>14</th>\n",
       "      <td>Ana Carolina Chaves</td>\n",
       "      <td>29</td>\n",
       "      <td>4500</td>\n",
       "    </tr>\n",
       "  </tbody>\n",
       "</table>\n",
       "</div>"
      ],
      "text/plain": [
       "                   Nome  Idade  Salário\n",
       "0         João da Silva     36     6300\n",
       "1       Pedro Fernandes     51     5700\n",
       "2         Maria Freitas     26     4500\n",
       "3       Paula Gonçalves     25     3800\n",
       "4           Ana Freitas     29     3200\n",
       "5            Luiz Costa     53     7300\n",
       "6           André Souza     42     7100\n",
       "7        Patrícia Silva     38     5600\n",
       "8           Regina Lima     35     6400\n",
       "9         Alfredo Souza     45     7000\n",
       "10      Margarete Cunha     26     3700\n",
       "11        Pedro Barbosa     37     6500\n",
       "12        Ricardo Alves     24     4000\n",
       "13       Márcio Rezende     31     5100\n",
       "14  Ana Carolina Chaves     29     4500"
      ]
     },
     "execution_count": 115,
     "metadata": {},
     "output_type": "execute_result"
    }
   ],
   "source": [
    "df"
   ]
  },
  {
   "cell_type": "code",
   "execution_count": 116,
   "id": "40e99d76",
   "metadata": {},
   "outputs": [],
   "source": [
    "dados = df['Idade']"
   ]
  },
  {
   "cell_type": "code",
   "execution_count": 117,
   "id": "ca6203c1",
   "metadata": {},
   "outputs": [],
   "source": [
    "fa,Faixa_etária= np.histogram(dados, bins=[19,23,28,34,38,43,48,53]) "
   ]
  },
  {
   "cell_type": "code",
   "execution_count": 118,
   "id": "72346bf2",
   "metadata": {},
   "outputs": [],
   "source": [
    "fa = fa.astype(int)"
   ]
  },
  {
   "cell_type": "code",
   "execution_count": 119,
   "id": "39992c74",
   "metadata": {},
   "outputs": [],
   "source": [
    "fr = np.around(fa/fa.sum()*100,decimals=2)"
   ]
  },
  {
   "cell_type": "code",
   "execution_count": 120,
   "id": "29e3c90a",
   "metadata": {},
   "outputs": [],
   "source": [
    "fc = np.cumsum(fa).astype(int)"
   ]
  },
  {
   "cell_type": "code",
   "execution_count": 121,
   "id": "2861be63",
   "metadata": {},
   "outputs": [],
   "source": [
    "classe_str = []\n",
    "for i in range(len(Faixa_etária)):\n",
    "    if i<=len(Faixa_etária)-2:\n",
    "        classe_str.append('{:2.2f} |-- {:2.2f}' .format(Faixa_etária[i],Faixa_etária[i+1]))\n",
    "    else:\n",
    "        break        \n"
   ]
  },
  {
   "cell_type": "code",
   "execution_count": 122,
   "id": "5c61cb7a",
   "metadata": {},
   "outputs": [
    {
     "data": {
      "text/html": [
       "<div>\n",
       "<style scoped>\n",
       "    .dataframe tbody tr th:only-of-type {\n",
       "        vertical-align: middle;\n",
       "    }\n",
       "\n",
       "    .dataframe tbody tr th {\n",
       "        vertical-align: top;\n",
       "    }\n",
       "\n",
       "    .dataframe thead th {\n",
       "        text-align: right;\n",
       "    }\n",
       "</style>\n",
       "<table border=\"1\" class=\"dataframe\">\n",
       "  <thead>\n",
       "    <tr style=\"text-align: right;\">\n",
       "      <th></th>\n",
       "      <th>Frequência simples</th>\n",
       "      <th>Frequência relativa</th>\n",
       "      <th>Frequência acumulada</th>\n",
       "    </tr>\n",
       "    <tr>\n",
       "      <th>Faixa etária</th>\n",
       "      <th></th>\n",
       "      <th></th>\n",
       "      <th></th>\n",
       "    </tr>\n",
       "  </thead>\n",
       "  <tbody>\n",
       "    <tr>\n",
       "      <th>19.00 |-- 23.00</th>\n",
       "      <td>0</td>\n",
       "      <td>0.00</td>\n",
       "      <td>0</td>\n",
       "    </tr>\n",
       "    <tr>\n",
       "      <th>23.00 |-- 28.00</th>\n",
       "      <td>4</td>\n",
       "      <td>26.67</td>\n",
       "      <td>4</td>\n",
       "    </tr>\n",
       "    <tr>\n",
       "      <th>28.00 |-- 34.00</th>\n",
       "      <td>3</td>\n",
       "      <td>20.00</td>\n",
       "      <td>7</td>\n",
       "    </tr>\n",
       "    <tr>\n",
       "      <th>34.00 |-- 38.00</th>\n",
       "      <td>3</td>\n",
       "      <td>20.00</td>\n",
       "      <td>10</td>\n",
       "    </tr>\n",
       "    <tr>\n",
       "      <th>38.00 |-- 43.00</th>\n",
       "      <td>2</td>\n",
       "      <td>13.33</td>\n",
       "      <td>12</td>\n",
       "    </tr>\n",
       "    <tr>\n",
       "      <th>43.00 |-- 48.00</th>\n",
       "      <td>1</td>\n",
       "      <td>6.67</td>\n",
       "      <td>13</td>\n",
       "    </tr>\n",
       "    <tr>\n",
       "      <th>48.00 |-- 53.00</th>\n",
       "      <td>2</td>\n",
       "      <td>13.33</td>\n",
       "      <td>15</td>\n",
       "    </tr>\n",
       "  </tbody>\n",
       "</table>\n",
       "</div>"
      ],
      "text/plain": [
       "                 Frequência simples  Frequência relativa  Frequência acumulada\n",
       "Faixa etária                                                                  \n",
       "19.00 |-- 23.00                   0                 0.00                     0\n",
       "23.00 |-- 28.00                   4                26.67                     4\n",
       "28.00 |-- 34.00                   3                20.00                     7\n",
       "34.00 |-- 38.00                   3                20.00                    10\n",
       "38.00 |-- 43.00                   2                13.33                    12\n",
       "43.00 |-- 48.00                   1                 6.67                    13\n",
       "48.00 |-- 53.00                   2                13.33                    15"
      ]
     },
     "execution_count": 122,
     "metadata": {},
     "output_type": "execute_result"
    }
   ],
   "source": [
    "pd.DataFrame({'Faixa etária':classe_str, \n",
    "                         'Frequência simples': fa,\n",
    "                         'Frequência relativa': fr,\n",
    "\n",
    "                         'Frequência acumulada': fc\n",
    "                        }).set_index('Faixa etária')"
   ]
  },
  {
   "cell_type": "code",
   "execution_count": 123,
   "id": "66054ed9",
   "metadata": {},
   "outputs": [],
   "source": [
    "import matplotlib.pyplot as plt"
   ]
  },
  {
   "cell_type": "code",
   "execution_count": 124,
   "id": "dafe111e",
   "metadata": {},
   "outputs": [
    {
     "data": {
      "image/png": "[encoded data removed]",
      "text/plain": [
       "<Figure size 432x288 with 1 Axes>"
      ]
     },
     "metadata": {
      "needs_background": "light"
     },
     "output_type": "display_data"
    }
   ],
   "source": [
    "fi, classes, x = plt.hist(dados, bins=[19,23,28,34,38,43,48,53])\n",
    "plt.xticks(Faixa_etária)\n",
    "plt.yticks(fi)\n",
    "plt.grid()"
   ]
  },
  {
   "cell_type": "code",
   "execution_count": 125,
   "id": "b5d22bdb",
   "metadata": {},
   "outputs": [
    {
     "data": {
      "image/png": "[encoded data removed]",
      "text/plain": [
       "<Figure size 432x288 with 1 Axes>"
      ]
     },
     "metadata": {
      "needs_background": "light"
     },
     "output_type": "display_data"
    }
   ],
   "source": [
    "df['Salário'].plot.hist()\n",
    "plt.grid()\n"
   ]
  },
  {
   "cell_type": "markdown",
   "id": "5a47b8a7",
   "metadata": {},
   "source": [
    "e) Se o livro tem 500 páginas, qual o número total de erros esperado no livro?"
   ]
  },
  {
   "cell_type": "markdown",
   "id": "4c177b49",
   "metadata": {},
   "source": []
  },
  {
   "cell_type": "code",
   "execution_count": null,
   "id": "effd217d",
   "metadata": {},
   "outputs": [],
   "source": []
  }
 ],
 "metadata": {
  "kernelspec": {
   "display_name": "Python 3",
   "language": "python",
   "name": "python3"
  },
  "language_info": {
   "codemirror_mode": {
    "name": "ipython",
    "version": 3
   },
   "file_extension": ".py",
   "mimetype": "text/x-python",
   "name": "python",
   "nbconvert_exporter": "python",
   "pygments_lexer": "ipython3",
   "version": "3.8.8"
  }
 },
 "nbformat": 4,
 "nbformat_minor": 5
}
